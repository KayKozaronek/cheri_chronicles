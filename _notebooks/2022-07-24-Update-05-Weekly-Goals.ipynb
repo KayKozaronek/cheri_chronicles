{
  "cells": [
    {
      "cell_type": "markdown",
      "metadata": {
        "id": "zwq93RalVprI"
      },
      "source": [
        "# Weekly Goals Update 05 \n",
        "> \"This template helps me prioritize, keep track of and review my weekly goals. It will also be quite amusing looking back at what I struggled with in a year.\"\n",
        "\n",
        "- toc: true\n",
        "- badges: true\n",
        "- comments: true\n",
        "- categories: [Reading, Books, Academic Papers, Blogs, Mental Diet]\n",
        "- image: images/to-do-list.png\n"
      ]
    },
    {
      "cell_type": "markdown",
      "metadata": {
        "id": "rnoi1BrlVlYo"
      },
      "source": [
        "# Status: \n",
        "\n",
        "Last week I struggled a lot with imposter syndrome. I felt like I didn't progress at a proper speed. A key realization helped me get over this and accept that research is inherently non-linear. After all: \"The real world is not an online course\". \n",
        "\n",
        "The main difficulty in doing self directed, open-ended work is that you're iteratively refining your task i.e. the problem statement and your solution attempts. After finding an initial problem to tackle, you quickly find out that either you don't have the right tools to tackle the problem or you don't understand how to apply your tools to solve the problem. In any case you go back and try to define the problem a little more succinctly such that you arrive at a more \"atomic\" subproblem, which you can try to solve.\n",
        "\n",
        "In light of this realization, it pays to take some time and try to identify the most important problems that pose bottlenecks. Breaking them down into smaller bits takes some time, but makes you progress faster in the long run. \n",
        "\n",
        "Moreover, breaking down your problems helps you make sense of what confuses you. This is crucial for being able to effectively make use of your mentor. Only if you're well prepared you'll be able to ask the right questions to help you move forward."
      ]
    },
    {
      "cell_type": "code",
      "execution_count": 1,
      "metadata": {
        "colab": {
          "base_uri": "https://localhost:8080/"
        },
        "id": "icVcs8PnWiog",
        "outputId": "e4218949-f126-492d-b071-a4402b1dc010"
      },
      "outputs": [
        {
          "name": "stderr",
          "output_type": "stream",
          "text": [
            "C:\\Users\\Win 10\\AppData\\Local\\Temp\\ipykernel_11332\\1090184961.py:12: SettingWithCopyWarning: \n",
            "A value is trying to be set on a copy of a slice from a DataFrame\n",
            "\n",
            "See the caveats in the documentation: https://pandas.pydata.org/pandas-docs/stable/user_guide/indexing.html#returning-a-view-versus-a-copy\n",
            "  df['Points'].iloc[-1] = ' '\n",
            "C:\\Users\\Win 10\\AppData\\Local\\Temp\\ipykernel_11332\\1090184961.py:13: SettingWithCopyWarning: \n",
            "A value is trying to be set on a copy of a slice from a DataFrame\n",
            "\n",
            "See the caveats in the documentation: https://pandas.pydata.org/pandas-docs/stable/user_guide/indexing.html#returning-a-view-versus-a-copy\n",
            "  df['Progress'].iloc[-1] = ' '\n",
            "C:\\Users\\Win 10\\AppData\\Local\\Temp\\ipykernel_11332\\1090184961.py:14: SettingWithCopyWarning: \n",
            "A value is trying to be set on a copy of a slice from a DataFrame\n",
            "\n",
            "See the caveats in the documentation: https://pandas.pydata.org/pandas-docs/stable/user_guide/indexing.html#returning-a-view-versus-a-copy\n",
            "  df['Total Points'].iloc[-1] = sum(df['Total Points'])\n"
          ]
        }
      ],
      "source": [
        "#hide\n",
        "import pandas as pd \n",
        "\n",
        "def prepare_df(file_path):\n",
        "  \n",
        "  cols_to_include = ['Goal', 'Points', 'Progress']\n",
        "  df = pd.read_csv(file_path, usecols=cols_to_include, sep=';')\n",
        "  df['Total Points'] = df['Points'] * df['Progress'] / 100 \n",
        "  df.fillna(0,inplace=True)\n",
        "  df['Points'] = df['Points'].astype(int)\n",
        "  df['Progress'] = df['Progress'].astype(float) / 100\n",
        "  df['Points'].iloc[-1] = ' '\n",
        "  df['Progress'].iloc[-1] = ' '\n",
        "  df['Total Points'].iloc[-1] = sum(df['Total Points'])\n",
        "\n",
        "  return df\n",
        "\n",
        "df = prepare_df('data/weekly_goals/2022-07-17-goals.csv')"
      ]
    },
    {
      "cell_type": "code",
      "execution_count": 2,
      "metadata": {
        "colab": {
          "base_uri": "https://localhost:8080/",
          "height": 352
        },
        "id": "QeYn7fDkZ1Ny",
        "outputId": "1b5e9a16-e4da-45fa-b6bd-7cfd9971324d"
      },
      "outputs": [
        {
          "data": {
            "text/html": [
              "<style type=\"text/css\">\n",
              "#T_7e2ad_row0_col3 {\n",
              "  background-color: #ecf8e8;\n",
              "  color: #000000;\n",
              "}\n",
              "#T_7e2ad_row1_col3, #T_7e2ad_row4_col3, #T_7e2ad_row5_col3 {\n",
              "  background-color: #dcf2d7;\n",
              "  color: #000000;\n",
              "}\n",
              "#T_7e2ad_row2_col3 {\n",
              "  background-color: #f0f9ed;\n",
              "  color: #000000;\n",
              "}\n",
              "#T_7e2ad_row3_col3 {\n",
              "  background-color: #caeac3;\n",
              "  color: #000000;\n",
              "}\n",
              "#T_7e2ad_row6_col3 {\n",
              "  background-color: #f7fcf5;\n",
              "  color: #000000;\n",
              "}\n",
              "#T_7e2ad_row7_col3 {\n",
              "  background-color: #e0f3db;\n",
              "  color: #000000;\n",
              "}\n",
              "#T_7e2ad_row8_col3 {\n",
              "  background-color: #00441b;\n",
              "  color: #f1f1f1;\n",
              "}\n",
              "</style>\n",
              "<table id=\"T_7e2ad\">\n",
              "  <thead>\n",
              "    <tr>\n",
              "      <th class=\"blank level0\" >&nbsp;</th>\n",
              "      <th id=\"T_7e2ad_level0_col0\" class=\"col_heading level0 col0\" >Goal</th>\n",
              "      <th id=\"T_7e2ad_level0_col1\" class=\"col_heading level0 col1\" >Points</th>\n",
              "      <th id=\"T_7e2ad_level0_col2\" class=\"col_heading level0 col2\" >Progress</th>\n",
              "      <th id=\"T_7e2ad_level0_col3\" class=\"col_heading level0 col3\" >Total Points</th>\n",
              "    </tr>\n",
              "  </thead>\n",
              "  <tbody>\n",
              "    <tr>\n",
              "      <th id=\"T_7e2ad_level0_row0\" class=\"row_heading level0 row0\" >0</th>\n",
              "      <td id=\"T_7e2ad_row0_col0\" class=\"data row0 col0\" >Create Project Github Repository</td>\n",
              "      <td id=\"T_7e2ad_row0_col1\" class=\"data row0 col1\" >5</td>\n",
              "      <td id=\"T_7e2ad_row0_col2\" class=\"data row0 col2\" >1.000000</td>\n",
              "      <td id=\"T_7e2ad_row0_col3\" class=\"data row0 col3\" >5.000000</td>\n",
              "    </tr>\n",
              "    <tr>\n",
              "      <th id=\"T_7e2ad_level0_row1\" class=\"row_heading level0 row1\" >1</th>\n",
              "      <td id=\"T_7e2ad_row1_col0\" class=\"data row1 col0\" >Come up with project folder structure </td>\n",
              "      <td id=\"T_7e2ad_row1_col1\" class=\"data row1 col1\" >10</td>\n",
              "      <td id=\"T_7e2ad_row1_col2\" class=\"data row1 col2\" >1.000000</td>\n",
              "      <td id=\"T_7e2ad_row1_col3\" class=\"data row1 col3\" >10.000000</td>\n",
              "    </tr>\n",
              "    <tr>\n",
              "      <th id=\"T_7e2ad_level0_row2\" class=\"row_heading level0 row2\" >2</th>\n",
              "      <td id=\"T_7e2ad_row2_col0\" class=\"data row2 col0\" >Use Weights and Biases in project</td>\n",
              "      <td id=\"T_7e2ad_row2_col1\" class=\"data row2 col1\" >10</td>\n",
              "      <td id=\"T_7e2ad_row2_col2\" class=\"data row2 col2\" >0.300000</td>\n",
              "      <td id=\"T_7e2ad_row2_col3\" class=\"data row2 col3\" >3.000000</td>\n",
              "    </tr>\n",
              "    <tr>\n",
              "      <th id=\"T_7e2ad_level0_row3\" class=\"row_heading level0 row3\" >3</th>\n",
              "      <td id=\"T_7e2ad_row3_col0\" class=\"data row3 col0\" >Analyze OpenAI dataset </td>\n",
              "      <td id=\"T_7e2ad_row3_col1\" class=\"data row3 col1\" >15</td>\n",
              "      <td id=\"T_7e2ad_row3_col2\" class=\"data row3 col2\" >1.000000</td>\n",
              "      <td id=\"T_7e2ad_row3_col3\" class=\"data row3 col3\" >15.000000</td>\n",
              "    </tr>\n",
              "    <tr>\n",
              "      <th id=\"T_7e2ad_level0_row4\" class=\"row_heading level0 row4\" >4</th>\n",
              "      <td id=\"T_7e2ad_row4_col0\" class=\"data row4 col0\" >Publish last weeks paper reimplementation</td>\n",
              "      <td id=\"T_7e2ad_row4_col1\" class=\"data row4 col1\" >10</td>\n",
              "      <td id=\"T_7e2ad_row4_col2\" class=\"data row4 col2\" >1.000000</td>\n",
              "      <td id=\"T_7e2ad_row4_col3\" class=\"data row4 col3\" >10.000000</td>\n",
              "    </tr>\n",
              "    <tr>\n",
              "      <th id=\"T_7e2ad_level0_row5\" class=\"row_heading level0 row5\" >5</th>\n",
              "      <td id=\"T_7e2ad_row5_col0\" class=\"data row5 col0\" >Extend code to entire dataset</td>\n",
              "      <td id=\"T_7e2ad_row5_col1\" class=\"data row5 col1\" >20</td>\n",
              "      <td id=\"T_7e2ad_row5_col2\" class=\"data row5 col2\" >0.500000</td>\n",
              "      <td id=\"T_7e2ad_row5_col3\" class=\"data row5 col3\" >10.000000</td>\n",
              "    </tr>\n",
              "    <tr>\n",
              "      <th id=\"T_7e2ad_level0_row6\" class=\"row_heading level0 row6\" >6</th>\n",
              "      <td id=\"T_7e2ad_row6_col0\" class=\"data row6 col0\" >Publish REINFORCE exercise</td>\n",
              "      <td id=\"T_7e2ad_row6_col1\" class=\"data row6 col1\" >15</td>\n",
              "      <td id=\"T_7e2ad_row6_col2\" class=\"data row6 col2\" >0.000000</td>\n",
              "      <td id=\"T_7e2ad_row6_col3\" class=\"data row6 col3\" >0.000000</td>\n",
              "    </tr>\n",
              "    <tr>\n",
              "      <th id=\"T_7e2ad_level0_row7\" class=\"row_heading level0 row7\" >7</th>\n",
              "      <td id=\"T_7e2ad_row7_col0\" class=\"data row7 col0\" >Read \"Without specific countermeasures, the easiest path to transformative AI likely leads to AI takeover\" </td>\n",
              "      <td id=\"T_7e2ad_row7_col1\" class=\"data row7 col1\" >15</td>\n",
              "      <td id=\"T_7e2ad_row7_col2\" class=\"data row7 col2\" >0.600000</td>\n",
              "      <td id=\"T_7e2ad_row7_col3\" class=\"data row7 col3\" >9.000000</td>\n",
              "    </tr>\n",
              "    <tr>\n",
              "      <th id=\"T_7e2ad_level0_row8\" class=\"row_heading level0 row8\" >8</th>\n",
              "      <td id=\"T_7e2ad_row8_col0\" class=\"data row8 col0\" >Total </td>\n",
              "      <td id=\"T_7e2ad_row8_col1\" class=\"data row8 col1\" > </td>\n",
              "      <td id=\"T_7e2ad_row8_col2\" class=\"data row8 col2\" > </td>\n",
              "      <td id=\"T_7e2ad_row8_col3\" class=\"data row8 col3\" >62.000000</td>\n",
              "    </tr>\n",
              "  </tbody>\n",
              "</table>\n"
            ],
            "text/plain": [
              "<pandas.io.formats.style.Styler at 0x1cfc8554490>"
            ]
          },
          "execution_count": 2,
          "metadata": {},
          "output_type": "execute_result"
        }
      ],
      "source": [
        "#hide_input\n",
        "df.style.background_gradient(cmap='Greens', subset=['Total Points'])"
      ]
    },
    {
      "cell_type": "markdown",
      "metadata": {
        "id": "_T3UegHgWhag"
      },
      "source": [
        "# Goals:\n",
        "This week I will focus on making new friends and getting settled in San Francisco.\n",
        "While traveling, I won't be able to code a lot which is why I will spend a lot of time reading. \n",
        "\n",
        "I want to have at least 10 in-depth conversations (1 on 1's at EAG). At the end of this week I should have a clearer view of where to work (coworking space), whom to meet after the conference and what to explore in the Bay Area and beyond (e.g. Yosemite national park)"
      ]
    },
    {
      "cell_type": "code",
      "execution_count": 3,
      "metadata": {
        "colab": {
          "base_uri": "https://localhost:8080/"
        },
        "id": "kqjULflLVO9z",
        "outputId": "abb9e2e3-17e9-4ace-fed0-b56c274d4603"
      },
      "outputs": [
        {
          "name": "stderr",
          "output_type": "stream",
          "text": [
            "C:\\Users\\Win 10\\AppData\\Local\\Temp\\ipykernel_11332\\1090184961.py:12: SettingWithCopyWarning: \n",
            "A value is trying to be set on a copy of a slice from a DataFrame\n",
            "\n",
            "See the caveats in the documentation: https://pandas.pydata.org/pandas-docs/stable/user_guide/indexing.html#returning-a-view-versus-a-copy\n",
            "  df['Points'].iloc[-1] = ' '\n",
            "C:\\Users\\Win 10\\AppData\\Local\\Temp\\ipykernel_11332\\1090184961.py:13: SettingWithCopyWarning: \n",
            "A value is trying to be set on a copy of a slice from a DataFrame\n",
            "\n",
            "See the caveats in the documentation: https://pandas.pydata.org/pandas-docs/stable/user_guide/indexing.html#returning-a-view-versus-a-copy\n",
            "  df['Progress'].iloc[-1] = ' '\n",
            "C:\\Users\\Win 10\\AppData\\Local\\Temp\\ipykernel_11332\\1090184961.py:14: SettingWithCopyWarning: \n",
            "A value is trying to be set on a copy of a slice from a DataFrame\n",
            "\n",
            "See the caveats in the documentation: https://pandas.pydata.org/pandas-docs/stable/user_guide/indexing.html#returning-a-view-versus-a-copy\n",
            "  df['Total Points'].iloc[-1] = sum(df['Total Points'])\n"
          ]
        }
      ],
      "source": [
        "#hide\n",
        "df_2 = prepare_df('data/weekly_goals/2022-07-24-goals.csv')"
      ]
    },
    {
      "cell_type": "code",
      "execution_count": 4,
      "metadata": {
        "colab": {
          "base_uri": "https://localhost:8080/",
          "height": 467
        },
        "id": "BhL9vmy0Wo-4",
        "outputId": "be03033c-397a-43eb-8dba-d191820cf6fa"
      },
      "outputs": [
        {
          "data": {
            "text/html": [
              "<div>\n",
              "<style scoped>\n",
              "    .dataframe tbody tr th:only-of-type {\n",
              "        vertical-align: middle;\n",
              "    }\n",
              "\n",
              "    .dataframe tbody tr th {\n",
              "        vertical-align: top;\n",
              "    }\n",
              "\n",
              "    .dataframe thead th {\n",
              "        text-align: right;\n",
              "    }\n",
              "</style>\n",
              "<table border=\"1\" class=\"dataframe\">\n",
              "  <thead>\n",
              "    <tr style=\"text-align: right;\">\n",
              "      <th></th>\n",
              "      <th>Goal</th>\n",
              "      <th>Points</th>\n",
              "    </tr>\n",
              "  </thead>\n",
              "  <tbody>\n",
              "    <tr>\n",
              "      <th>0</th>\n",
              "      <td>Have 10 great conversations at EAG SF with new...</td>\n",
              "      <td>25</td>\n",
              "    </tr>\n",
              "    <tr>\n",
              "      <th>1</th>\n",
              "      <td>Read AGI Safety from first principles</td>\n",
              "      <td>15</td>\n",
              "    </tr>\n",
              "    <tr>\n",
              "      <th>2</th>\n",
              "      <td>Get summary statistics on OpenAI dataset</td>\n",
              "      <td>15</td>\n",
              "    </tr>\n",
              "    <tr>\n",
              "      <th>3</th>\n",
              "      <td>Plan stay in San Francisco</td>\n",
              "      <td>10</td>\n",
              "    </tr>\n",
              "    <tr>\n",
              "      <th>4</th>\n",
              "      <td>Finish Reading Ajeya Cotra's Blogpost</td>\n",
              "      <td>5</td>\n",
              "    </tr>\n",
              "    <tr>\n",
              "      <th>5</th>\n",
              "      <td>Meet FAR team at EAG</td>\n",
              "      <td>5</td>\n",
              "    </tr>\n",
              "    <tr>\n",
              "      <th>6</th>\n",
              "      <td>Setup Weights and Biases</td>\n",
              "      <td>5</td>\n",
              "    </tr>\n",
              "    <tr>\n",
              "      <th>7</th>\n",
              "      <td>Use OpenAI playground to explore different pro...</td>\n",
              "      <td>5</td>\n",
              "    </tr>\n",
              "    <tr>\n",
              "      <th>8</th>\n",
              "      <td>Skim \"Language models are zero-shot reasoners\"...</td>\n",
              "      <td>5</td>\n",
              "    </tr>\n",
              "    <tr>\n",
              "      <th>9</th>\n",
              "      <td>Skim \"Chain of thought reasoning\" paper</td>\n",
              "      <td>5</td>\n",
              "    </tr>\n",
              "    <tr>\n",
              "      <th>10</th>\n",
              "      <td>Skim Minerva paper</td>\n",
              "      <td>5</td>\n",
              "    </tr>\n",
              "    <tr>\n",
              "      <th>11</th>\n",
              "      <td>Total</td>\n",
              "      <td></td>\n",
              "    </tr>\n",
              "  </tbody>\n",
              "</table>\n",
              "</div>"
            ],
            "text/plain": [
              "                                                 Goal Points\n",
              "0   Have 10 great conversations at EAG SF with new...     25\n",
              "1               Read AGI Safety from first principles     15\n",
              "2           Get summary statistics on OpenAI dataset      15\n",
              "3                          Plan stay in San Francisco     10\n",
              "4               Finish Reading Ajeya Cotra's Blogpost      5\n",
              "5                                Meet FAR team at EAG      5\n",
              "6                            Setup Weights and Biases      5\n",
              "7   Use OpenAI playground to explore different pro...      5\n",
              "8   Skim \"Language models are zero-shot reasoners\"...      5\n",
              "9             Skim \"Chain of thought reasoning\" paper      5\n",
              "10                                 Skim Minerva paper      5\n",
              "11                                             Total        "
            ]
          },
          "execution_count": 4,
          "metadata": {},
          "output_type": "execute_result"
        }
      ],
      "source": [
        "#hide_input\n",
        "df_2[['Goal', 'Points']]"
      ]
    },
    {
      "cell_type": "markdown",
      "metadata": {
        "id": "UuEBoU82WoGR"
      },
      "source": [
        "\n",
        "# Explore in upcoming week(s):\n",
        "\n",
        "- Explore San Francisco and Berkeley"
      ]
    }
  ],
  "metadata": {
    "colab": {
      "collapsed_sections": [],
      "name": "02.07 weekly goals.ipynb",
      "provenance": []
    },
    "kernelspec": {
      "display_name": "Python 3.8.0 ('bmrl')",
      "language": "python",
      "name": "python3"
    },
    "language_info": {
      "codemirror_mode": {
        "name": "ipython",
        "version": 3
      },
      "file_extension": ".py",
      "mimetype": "text/x-python",
      "name": "python",
      "nbconvert_exporter": "python",
      "pygments_lexer": "ipython3",
      "version": "3.8.0"
    },
    "vscode": {
      "interpreter": {
        "hash": "9bd5fdb6f48531610e7098ba85fa665d7e3829b76a65bf338b4d2c82efce60af"
      }
    }
  },
  "nbformat": 4,
  "nbformat_minor": 0
}
