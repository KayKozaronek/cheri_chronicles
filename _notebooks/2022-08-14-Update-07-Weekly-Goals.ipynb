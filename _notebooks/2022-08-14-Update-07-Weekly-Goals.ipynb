{
  "cells": [
    {
      "cell_type": "markdown",
      "metadata": {
        "id": "zwq93RalVprI"
      },
      "source": [
        "# Weekly Goals Update 07\n",
        "> \"This template helps me prioritize, keep track of and review my weekly goals. It will also be quite amusing looking back at what I struggled with in a year.\"\n",
        "\n",
        "- toc: true\n",
        "- badges: true\n",
        "- comments: true\n",
        "- categories: [Reading, Books, Academic Papers, Blogs, Mental Diet]\n",
        "- image: images/to-do-list.png"
      ]
    },
    {
      "cell_type": "markdown",
      "metadata": {
        "id": "rnoi1BrlVlYo"
      },
      "source": [
        "# Status: \n",
        "\n",
        "Since my last update I learned quite a few important lessons: \n",
        "\n",
        "1. It's ok to be slow\n",
        "2. Your mental health should be a top priority\n",
        "3. In research, learnings are more important than goals\n",
        "\n",
        "\n",
        "While spending time in Berkeley and San Francisco I met a plethora of rational well intentioned and intimidatingly successful people. \n",
        "Lots of ideas were filling the air and a shared sense of urgency was palpable. The feeling of being supposed to do impactful work, coupled with a self-perceived inability to perform at the necessary level made me sick to the stomache. At some point after staring into the abyss and questioning myself for too long I wrote the following: \n",
        "\n",
        "> I feel awful.\n",
        "> \n",
        "> Everything I write is crap so I don't even send it to my mentor, even though he might be able to help. \n",
        "> \n",
        "> I keep staring at my laptop and space out for what feels like hours on end.\n",
        "> \n",
        "> It's the first time in 2 years that I procrastinate. This is new and inacceptable and feels like a huge step back. I watch YouTube videos and beat myself up for doing so. \n",
        "> \n",
        "> Even worse, my self doubt makes me socially awkward. Instead of spending some time to talk to people, I tell myself I should work on the project and not waste even more time. Then when I sit in front of my laptop I just blank out. \n",
        ">\n",
        "> I'm not excited to wake up in the morning and work on anything because I dread the experience of staring at a blank laptop screen. \n",
        "> \n",
        "> My mental health has deteriorated massively since I started the research fellowship. \n"
      ]
    },
    {
      "cell_type": "markdown",
      "metadata": {},
      "source": [
        "The above marked a low point for me this year. Fortunately, my mentor was able to help me back on my feet. \n",
        "\n",
        "One key consideration helped me get out of this rut quickly: \n",
        "\n",
        "> \"Whenever you feel like you cannot perform good work because of some mental barrier switch gears immediately: Go from work mode to mental health mode. Make being content your only priority.\"\n",
        "\n",
        "This is not to say that every time you feel like you're facing adversity you should quit and take a stroll around the block or eat some ice cream. Instead, 'staring at a screen for 20 minutes without doing anything productive (possibly beating yourself up for it)' is a good starting point to take a break and fix your state of mind. \n",
        "\n",
        "That being said, receiving the \"permission to prioritize my mental well-being\" changed my situation almost immediately. For everyone in similar situations I can recommend to do the same. Go have a cup of tea, take a walk, cook something delicious or just call a friend. It works wonders."
      ]
    },
    {
      "cell_type": "code",
      "execution_count": 1,
      "metadata": {
        "colab": {
          "base_uri": "https://localhost:8080/"
        },
        "id": "icVcs8PnWiog",
        "outputId": "e4218949-f126-492d-b071-a4402b1dc010"
      },
      "outputs": [
        {
          "name": "stderr",
          "output_type": "stream",
          "text": [
            "C:\\Users\\Win 10\\AppData\\Local\\Temp\\ipykernel_24000\\3381779658.py:12: SettingWithCopyWarning: \n",
            "A value is trying to be set on a copy of a slice from a DataFrame\n",
            "\n",
            "See the caveats in the documentation: https://pandas.pydata.org/pandas-docs/stable/user_guide/indexing.html#returning-a-view-versus-a-copy\n",
            "  df['Points'].iloc[-1] = ' '\n",
            "C:\\Users\\Win 10\\AppData\\Local\\Temp\\ipykernel_24000\\3381779658.py:13: SettingWithCopyWarning: \n",
            "A value is trying to be set on a copy of a slice from a DataFrame\n",
            "\n",
            "See the caveats in the documentation: https://pandas.pydata.org/pandas-docs/stable/user_guide/indexing.html#returning-a-view-versus-a-copy\n",
            "  df['Progress'].iloc[-1] = ' '\n",
            "C:\\Users\\Win 10\\AppData\\Local\\Temp\\ipykernel_24000\\3381779658.py:14: SettingWithCopyWarning: \n",
            "A value is trying to be set on a copy of a slice from a DataFrame\n",
            "\n",
            "See the caveats in the documentation: https://pandas.pydata.org/pandas-docs/stable/user_guide/indexing.html#returning-a-view-versus-a-copy\n",
            "  df['Total Points'].iloc[-1] = sum(df['Total Points'])\n"
          ]
        }
      ],
      "source": [
        "#hide\n",
        "import pandas as pd \n",
        "\n",
        "def prepare_df(file_path):\n",
        "  \n",
        "  cols_to_include = ['Goal', 'Points', 'Progress']\n",
        "  df = pd.read_csv(file_path, usecols=cols_to_include, sep=';')\n",
        "  df['Total Points'] = df['Points'] * df['Progress'] / 100 \n",
        "  df.fillna(0,inplace=True)\n",
        "  df['Points'] = df['Points'].astype(int)\n",
        "  df['Progress'] = df['Progress'].astype(float) / 100\n",
        "  df['Points'].iloc[-1] = ' '\n",
        "  df['Progress'].iloc[-1] = ' '\n",
        "  df['Total Points'].iloc[-1] = sum(df['Total Points'])\n",
        "\n",
        "  return df\n",
        "\n",
        "df = prepare_df('data/weekly_goals/2022-07-31-goals.csv')"
      ]
    },
    {
      "cell_type": "code",
      "execution_count": 2,
      "metadata": {
        "colab": {
          "base_uri": "https://localhost:8080/",
          "height": 352
        },
        "id": "QeYn7fDkZ1Ny",
        "outputId": "1b5e9a16-e4da-45fa-b6bd-7cfd9971324d"
      },
      "outputs": [
        {
          "data": {
            "text/html": [
              "<style type=\"text/css\">\n",
              "#T_4d79b_row0_col3 {\n",
              "  background-color: #c2e7bb;\n",
              "  color: #000000;\n",
              "}\n",
              "#T_4d79b_row1_col3, #T_4d79b_row2_col3 {\n",
              "  background-color: #e3f4de;\n",
              "  color: #000000;\n",
              "}\n",
              "#T_4d79b_row3_col3, #T_4d79b_row4_col3 {\n",
              "  background-color: #edf8ea;\n",
              "  color: #000000;\n",
              "}\n",
              "#T_4d79b_row5_col3 {\n",
              "  background-color: #f7fcf5;\n",
              "  color: #000000;\n",
              "}\n",
              "#T_4d79b_row6_col3 {\n",
              "  background-color: #00441b;\n",
              "  color: #f1f1f1;\n",
              "}\n",
              "</style>\n",
              "<table id=\"T_4d79b\">\n",
              "  <thead>\n",
              "    <tr>\n",
              "      <th class=\"blank level0\" >&nbsp;</th>\n",
              "      <th id=\"T_4d79b_level0_col0\" class=\"col_heading level0 col0\" >Goal</th>\n",
              "      <th id=\"T_4d79b_level0_col1\" class=\"col_heading level0 col1\" >Points</th>\n",
              "      <th id=\"T_4d79b_level0_col2\" class=\"col_heading level0 col2\" >Progress</th>\n",
              "      <th id=\"T_4d79b_level0_col3\" class=\"col_heading level0 col3\" >Total Points</th>\n",
              "    </tr>\n",
              "  </thead>\n",
              "  <tbody>\n",
              "    <tr>\n",
              "      <th id=\"T_4d79b_level0_row0\" class=\"row_heading level0 row0\" >0</th>\n",
              "      <td id=\"T_4d79b_row0_col0\" class=\"data row0 col0\" >Full Stack Deep Learning Notebooks</td>\n",
              "      <td id=\"T_4d79b_row0_col1\" class=\"data row0 col1\" >25</td>\n",
              "      <td id=\"T_4d79b_row0_col2\" class=\"data row0 col2\" >1.000000</td>\n",
              "      <td id=\"T_4d79b_row0_col3\" class=\"data row0 col3\" >25.000000</td>\n",
              "    </tr>\n",
              "    <tr>\n",
              "      <th id=\"T_4d79b_level0_row1\" class=\"row_heading level0 row1\" >1</th>\n",
              "      <td id=\"T_4d79b_row1_col0\" class=\"data row1 col0\" >Apply to Research Assistant Position</td>\n",
              "      <td id=\"T_4d79b_row1_col1\" class=\"data row1 col1\" >15</td>\n",
              "      <td id=\"T_4d79b_row1_col2\" class=\"data row1 col2\" >1.000000</td>\n",
              "      <td id=\"T_4d79b_row1_col3\" class=\"data row1 col3\" >15.000000</td>\n",
              "    </tr>\n",
              "    <tr>\n",
              "      <th id=\"T_4d79b_level0_row2\" class=\"row_heading level0 row2\" >2</th>\n",
              "      <td id=\"T_4d79b_row2_col0\" class=\"data row2 col0\" >Get summary statistics on OpenAI dataset </td>\n",
              "      <td id=\"T_4d79b_row2_col1\" class=\"data row2 col1\" >15</td>\n",
              "      <td id=\"T_4d79b_row2_col2\" class=\"data row2 col2\" >1.000000</td>\n",
              "      <td id=\"T_4d79b_row2_col3\" class=\"data row2 col3\" >15.000000</td>\n",
              "    </tr>\n",
              "    <tr>\n",
              "      <th id=\"T_4d79b_level0_row3\" class=\"row_heading level0 row3\" >3</th>\n",
              "      <td id=\"T_4d79b_row3_col0\" class=\"data row3 col0\" >Explore SF</td>\n",
              "      <td id=\"T_4d79b_row3_col1\" class=\"data row3 col1\" >10</td>\n",
              "      <td id=\"T_4d79b_row3_col2\" class=\"data row3 col2\" >1.000000</td>\n",
              "      <td id=\"T_4d79b_row3_col3\" class=\"data row3 col3\" >10.000000</td>\n",
              "    </tr>\n",
              "    <tr>\n",
              "      <th id=\"T_4d79b_level0_row4\" class=\"row_heading level0 row4\" >4</th>\n",
              "      <td id=\"T_4d79b_row4_col0\" class=\"data row4 col0\" >Explore Palo Alto</td>\n",
              "      <td id=\"T_4d79b_row4_col1\" class=\"data row4 col1\" >10</td>\n",
              "      <td id=\"T_4d79b_row4_col2\" class=\"data row4 col2\" >1.000000</td>\n",
              "      <td id=\"T_4d79b_row4_col3\" class=\"data row4 col3\" >10.000000</td>\n",
              "    </tr>\n",
              "    <tr>\n",
              "      <th id=\"T_4d79b_level0_row5\" class=\"row_heading level0 row5\" >5</th>\n",
              "      <td id=\"T_4d79b_row5_col0\" class=\"data row5 col0\" >Setup Weights and Biases</td>\n",
              "      <td id=\"T_4d79b_row5_col1\" class=\"data row5 col1\" >5</td>\n",
              "      <td id=\"T_4d79b_row5_col2\" class=\"data row5 col2\" >1.000000</td>\n",
              "      <td id=\"T_4d79b_row5_col3\" class=\"data row5 col3\" >5.000000</td>\n",
              "    </tr>\n",
              "    <tr>\n",
              "      <th id=\"T_4d79b_level0_row6\" class=\"row_heading level0 row6\" >6</th>\n",
              "      <td id=\"T_4d79b_row6_col0\" class=\"data row6 col0\" >Total </td>\n",
              "      <td id=\"T_4d79b_row6_col1\" class=\"data row6 col1\" > </td>\n",
              "      <td id=\"T_4d79b_row6_col2\" class=\"data row6 col2\" > </td>\n",
              "      <td id=\"T_4d79b_row6_col3\" class=\"data row6 col3\" >80.000000</td>\n",
              "    </tr>\n",
              "  </tbody>\n",
              "</table>\n"
            ],
            "text/plain": [
              "<pandas.io.formats.style.Styler at 0x1d901f1ad70>"
            ]
          },
          "execution_count": 2,
          "metadata": {},
          "output_type": "execute_result"
        }
      ],
      "source": [
        "#hide_input\n",
        "df.style.background_gradient(cmap='Greens', subset=['Total Points'])"
      ]
    },
    {
      "cell_type": "markdown",
      "metadata": {
        "id": "_T3UegHgWhag"
      },
      "source": [
        "# Goals:\n",
        "This week I will start consolidating what I learned over the past few weeks. \n",
        "\n",
        "The most important thing will be to synchronize my code with Jeremys code and to prepare initial drafts for my final outputs.\n"
      ]
    },
    {
      "cell_type": "code",
      "execution_count": 3,
      "metadata": {
        "colab": {
          "base_uri": "https://localhost:8080/"
        },
        "id": "kqjULflLVO9z",
        "outputId": "abb9e2e3-17e9-4ace-fed0-b56c274d4603"
      },
      "outputs": [
        {
          "name": "stderr",
          "output_type": "stream",
          "text": [
            "C:\\Users\\Win 10\\AppData\\Local\\Temp\\ipykernel_24000\\3381779658.py:12: SettingWithCopyWarning: \n",
            "A value is trying to be set on a copy of a slice from a DataFrame\n",
            "\n",
            "See the caveats in the documentation: https://pandas.pydata.org/pandas-docs/stable/user_guide/indexing.html#returning-a-view-versus-a-copy\n",
            "  df['Points'].iloc[-1] = ' '\n",
            "C:\\Users\\Win 10\\AppData\\Local\\Temp\\ipykernel_24000\\3381779658.py:13: SettingWithCopyWarning: \n",
            "A value is trying to be set on a copy of a slice from a DataFrame\n",
            "\n",
            "See the caveats in the documentation: https://pandas.pydata.org/pandas-docs/stable/user_guide/indexing.html#returning-a-view-versus-a-copy\n",
            "  df['Progress'].iloc[-1] = ' '\n",
            "C:\\Users\\Win 10\\AppData\\Local\\Temp\\ipykernel_24000\\3381779658.py:14: SettingWithCopyWarning: \n",
            "A value is trying to be set on a copy of a slice from a DataFrame\n",
            "\n",
            "See the caveats in the documentation: https://pandas.pydata.org/pandas-docs/stable/user_guide/indexing.html#returning-a-view-versus-a-copy\n",
            "  df['Total Points'].iloc[-1] = sum(df['Total Points'])\n"
          ]
        }
      ],
      "source": [
        "#hide\n",
        "df_2 = prepare_df('data/weekly_goals/2022-08-14-goals.csv')"
      ]
    },
    {
      "cell_type": "code",
      "execution_count": 4,
      "metadata": {
        "colab": {
          "base_uri": "https://localhost:8080/",
          "height": 467
        },
        "id": "BhL9vmy0Wo-4",
        "outputId": "be03033c-397a-43eb-8dba-d191820cf6fa"
      },
      "outputs": [
        {
          "data": {
            "text/html": [
              "<div>\n",
              "<style scoped>\n",
              "    .dataframe tbody tr th:only-of-type {\n",
              "        vertical-align: middle;\n",
              "    }\n",
              "\n",
              "    .dataframe tbody tr th {\n",
              "        vertical-align: top;\n",
              "    }\n",
              "\n",
              "    .dataframe thead th {\n",
              "        text-align: right;\n",
              "    }\n",
              "</style>\n",
              "<table border=\"1\" class=\"dataframe\">\n",
              "  <thead>\n",
              "    <tr style=\"text-align: right;\">\n",
              "      <th></th>\n",
              "      <th>Goal</th>\n",
              "      <th>Points</th>\n",
              "    </tr>\n",
              "  </thead>\n",
              "  <tbody>\n",
              "    <tr>\n",
              "      <th>0</th>\n",
              "      <td>Finetune 3 different models</td>\n",
              "      <td>25</td>\n",
              "    </tr>\n",
              "    <tr>\n",
              "      <th>1</th>\n",
              "      <td>Compare experimental setups (OpenAI vs Ours)</td>\n",
              "      <td>20</td>\n",
              "    </tr>\n",
              "    <tr>\n",
              "      <th>2</th>\n",
              "      <td>Draft Final Post</td>\n",
              "      <td>15</td>\n",
              "    </tr>\n",
              "    <tr>\n",
              "      <th>3</th>\n",
              "      <td>Draft Final Deliverable Presentation</td>\n",
              "      <td>15</td>\n",
              "    </tr>\n",
              "    <tr>\n",
              "      <th>4</th>\n",
              "      <td>FSDL: Lab 4</td>\n",
              "      <td>10</td>\n",
              "    </tr>\n",
              "    <tr>\n",
              "      <th>5</th>\n",
              "      <td>Finish Final deliverable notebook</td>\n",
              "      <td>10</td>\n",
              "    </tr>\n",
              "    <tr>\n",
              "      <th>6</th>\n",
              "      <td>FSDL: Lecture 2</td>\n",
              "      <td>5</td>\n",
              "    </tr>\n",
              "    <tr>\n",
              "      <th>7</th>\n",
              "      <td>Total</td>\n",
              "      <td></td>\n",
              "    </tr>\n",
              "  </tbody>\n",
              "</table>\n",
              "</div>"
            ],
            "text/plain": [
              "                                           Goal Points\n",
              "0                  Finetune 3 different models      25\n",
              "1  Compare experimental setups (OpenAI vs Ours)     20\n",
              "2                              Draft Final Post     15\n",
              "3          Draft Final Deliverable Presentation     15\n",
              "4                                   FSDL: Lab 4     10\n",
              "5             Finish Final deliverable notebook     10\n",
              "6                               FSDL: Lecture 2      5\n",
              "7                                        Total        "
            ]
          },
          "execution_count": 4,
          "metadata": {},
          "output_type": "execute_result"
        }
      ],
      "source": [
        "#hide_input\n",
        "df_2[['Goal', 'Points']]"
      ]
    },
    {
      "cell_type": "markdown",
      "metadata": {
        "id": "UuEBoU82WoGR"
      },
      "source": [
        "\n",
        "# Explore in upcoming week(s):\n",
        "\n",
        "- Finish up the fellowship"
      ]
    }
  ],
  "metadata": {
    "colab": {
      "collapsed_sections": [],
      "name": "02.07 weekly goals.ipynb",
      "provenance": []
    },
    "kernelspec": {
      "display_name": "Python 3.10.4 ('cheri')",
      "language": "python",
      "name": "python3"
    },
    "language_info": {
      "codemirror_mode": {
        "name": "ipython",
        "version": 3
      },
      "file_extension": ".py",
      "mimetype": "text/x-python",
      "name": "python",
      "nbconvert_exporter": "python",
      "pygments_lexer": "ipython3",
      "version": "3.10.4"
    },
    "vscode": {
      "interpreter": {
        "hash": "d1c0e930e11802541aab34f9871fe8842501b21502df25d234a28cba8e2835ed"
      }
    }
  },
  "nbformat": 4,
  "nbformat_minor": 0
}
