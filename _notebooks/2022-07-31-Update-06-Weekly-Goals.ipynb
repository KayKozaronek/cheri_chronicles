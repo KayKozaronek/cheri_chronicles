{
  "cells": [
    {
      "cell_type": "markdown",
      "metadata": {
        "id": "zwq93RalVprI"
      },
      "source": [
        "# Weekly Goals Update 06\n",
        " \n",
        "> \"This template helps me prioritize, keep track of and review my weekly goals. It will also be quite amusing looking back at what I struggled with in a year.\"\n",
        "\n",
        "- toc: true\n",
        "- badges: true\n",
        "- comments: true\n",
        "- categories: [Reading, Books, Academic Papers, Blogs, Mental Diet]\n",
        "- image: images/to-do-list.png\n"
      ]
    },
    {
      "cell_type": "markdown",
      "metadata": {
        "id": "rnoi1BrlVlYo"
      },
      "source": [
        "# Status: \n",
        "\n",
        "EAG SF went well. I met a lot of new people and friends I previously made in Prague and London. One main question I explored was whether there are success stories for how we could succeed at aligning AI. To my surprise, not a lot of people have thought about this in a satisfactory manner. Most ideas people propounded were hand wavy statements of the kind: \"We'll work hard on this and then hope that nothing breaks. And because it's a hard problem we'll work really hard and this will make us succeed.\"\n",
        "\n",
        "Additionally, I explored the question of whether I can become a world-class ML engineer and unfortunately there was no conclusive evidence for or against it. There is a lack of people I can compare myself against, which makes it harder to assess my skill level proportional to the time I invested in building it. In the end, the main take away is probably, that it's too early to tell."
      ]
    },
    {
      "cell_type": "code",
      "execution_count": 3,
      "metadata": {
        "colab": {
          "base_uri": "https://localhost:8080/"
        },
        "id": "icVcs8PnWiog",
        "outputId": "e4218949-f126-492d-b071-a4402b1dc010"
      },
      "outputs": [
        {
          "name": "stderr",
          "output_type": "stream",
          "text": [
            "C:\\Users\\Win 10\\AppData\\Local\\Temp\\ipykernel_22512\\410058310.py:12: SettingWithCopyWarning: \n",
            "A value is trying to be set on a copy of a slice from a DataFrame\n",
            "\n",
            "See the caveats in the documentation: https://pandas.pydata.org/pandas-docs/stable/user_guide/indexing.html#returning-a-view-versus-a-copy\n",
            "  df['Points'].iloc[-1] = ' '\n",
            "C:\\Users\\Win 10\\AppData\\Local\\Temp\\ipykernel_22512\\410058310.py:13: SettingWithCopyWarning: \n",
            "A value is trying to be set on a copy of a slice from a DataFrame\n",
            "\n",
            "See the caveats in the documentation: https://pandas.pydata.org/pandas-docs/stable/user_guide/indexing.html#returning-a-view-versus-a-copy\n",
            "  df['Progress'].iloc[-1] = ' '\n",
            "C:\\Users\\Win 10\\AppData\\Local\\Temp\\ipykernel_22512\\410058310.py:14: SettingWithCopyWarning: \n",
            "A value is trying to be set on a copy of a slice from a DataFrame\n",
            "\n",
            "See the caveats in the documentation: https://pandas.pydata.org/pandas-docs/stable/user_guide/indexing.html#returning-a-view-versus-a-copy\n",
            "  df['Total Points'].iloc[-1] = sum(df['Total Points'])\n"
          ]
        }
      ],
      "source": [
        "#hide\n",
        "import pandas as pd \n",
        "\n",
        "def prepare_df(file_path):\n",
        "  \n",
        "  cols_to_include = ['Goal', 'Points', 'Progress']\n",
        "  df = pd.read_csv(file_path, usecols=cols_to_include, sep=';')\n",
        "  df['Total Points'] = df['Points'] * df['Progress'] / 100 \n",
        "  df.fillna(0,inplace=True)\n",
        "  df['Points'] = df['Points'].astype(int)\n",
        "  df['Progress'] = df['Progress'].astype(float) / 100\n",
        "  df['Points'].iloc[-1] = ' '\n",
        "  df['Progress'].iloc[-1] = ' '\n",
        "  df['Total Points'].iloc[-1] = sum(df['Total Points'])\n",
        "\n",
        "  return df\n",
        "\n",
        "df = prepare_df('data/weekly_goals/2022-07-24-goals.csv')"
      ]
    },
    {
      "cell_type": "code",
      "execution_count": 4,
      "metadata": {
        "colab": {
          "base_uri": "https://localhost:8080/",
          "height": 352
        },
        "id": "QeYn7fDkZ1Ny",
        "outputId": "1b5e9a16-e4da-45fa-b6bd-7cfd9971324d"
      },
      "outputs": [
        {
          "data": {
            "text/html": [
              "<style type=\"text/css\">\n",
              "#T_37007_row0_col3 {\n",
              "  background-color: #aedea7;\n",
              "  color: #000000;\n",
              "}\n",
              "#T_37007_row1_col3, #T_37007_row3_col3, #T_37007_row5_col3, #T_37007_row7_col3, #T_37007_row8_col3, #T_37007_row9_col3, #T_37007_row10_col3 {\n",
              "  background-color: #edf8ea;\n",
              "  color: #000000;\n",
              "}\n",
              "#T_37007_row2_col3, #T_37007_row6_col3 {\n",
              "  background-color: #f7fcf5;\n",
              "  color: #000000;\n",
              "}\n",
              "#T_37007_row4_col3 {\n",
              "  background-color: #d3eecd;\n",
              "  color: #000000;\n",
              "}\n",
              "#T_37007_row11_col3 {\n",
              "  background-color: #00441b;\n",
              "  color: #f1f1f1;\n",
              "}\n",
              "</style>\n",
              "<table id=\"T_37007\">\n",
              "  <thead>\n",
              "    <tr>\n",
              "      <th class=\"blank level0\" >&nbsp;</th>\n",
              "      <th id=\"T_37007_level0_col0\" class=\"col_heading level0 col0\" >Goal</th>\n",
              "      <th id=\"T_37007_level0_col1\" class=\"col_heading level0 col1\" >Points</th>\n",
              "      <th id=\"T_37007_level0_col2\" class=\"col_heading level0 col2\" >Progress</th>\n",
              "      <th id=\"T_37007_level0_col3\" class=\"col_heading level0 col3\" >Total Points</th>\n",
              "    </tr>\n",
              "  </thead>\n",
              "  <tbody>\n",
              "    <tr>\n",
              "      <th id=\"T_37007_level0_row0\" class=\"row_heading level0 row0\" >0</th>\n",
              "      <td id=\"T_37007_row0_col0\" class=\"data row0 col0\" >Have 10 great conversations at EAG SF with new friends</td>\n",
              "      <td id=\"T_37007_row0_col1\" class=\"data row0 col1\" >25</td>\n",
              "      <td id=\"T_37007_row0_col2\" class=\"data row0 col2\" >1.000000</td>\n",
              "      <td id=\"T_37007_row0_col3\" class=\"data row0 col3\" >25.000000</td>\n",
              "    </tr>\n",
              "    <tr>\n",
              "      <th id=\"T_37007_level0_row1\" class=\"row_heading level0 row1\" >1</th>\n",
              "      <td id=\"T_37007_row1_col0\" class=\"data row1 col0\" >Read AGI Safety from first principles</td>\n",
              "      <td id=\"T_37007_row1_col1\" class=\"data row1 col1\" >10</td>\n",
              "      <td id=\"T_37007_row1_col2\" class=\"data row1 col2\" >0.500000</td>\n",
              "      <td id=\"T_37007_row1_col3\" class=\"data row1 col3\" >5.000000</td>\n",
              "    </tr>\n",
              "    <tr>\n",
              "      <th id=\"T_37007_level0_row2\" class=\"row_heading level0 row2\" >2</th>\n",
              "      <td id=\"T_37007_row2_col0\" class=\"data row2 col0\" >Get summary statistics on OpenAI dataset </td>\n",
              "      <td id=\"T_37007_row2_col1\" class=\"data row2 col1\" >15</td>\n",
              "      <td id=\"T_37007_row2_col2\" class=\"data row2 col2\" >0.000000</td>\n",
              "      <td id=\"T_37007_row2_col3\" class=\"data row2 col3\" >0.000000</td>\n",
              "    </tr>\n",
              "    <tr>\n",
              "      <th id=\"T_37007_level0_row3\" class=\"row_heading level0 row3\" >3</th>\n",
              "      <td id=\"T_37007_row3_col0\" class=\"data row3 col0\" >Plan stay in San Francisco</td>\n",
              "      <td id=\"T_37007_row3_col1\" class=\"data row3 col1\" >5</td>\n",
              "      <td id=\"T_37007_row3_col2\" class=\"data row3 col2\" >1.000000</td>\n",
              "      <td id=\"T_37007_row3_col3\" class=\"data row3 col3\" >5.000000</td>\n",
              "    </tr>\n",
              "    <tr>\n",
              "      <th id=\"T_37007_level0_row4\" class=\"row_heading level0 row4\" >4</th>\n",
              "      <td id=\"T_37007_row4_col0\" class=\"data row4 col0\" >Finish Reading Ajeya Cotra's Blogpost</td>\n",
              "      <td id=\"T_37007_row4_col1\" class=\"data row4 col1\" >15</td>\n",
              "      <td id=\"T_37007_row4_col2\" class=\"data row4 col2\" >1.000000</td>\n",
              "      <td id=\"T_37007_row4_col3\" class=\"data row4 col3\" >15.000000</td>\n",
              "    </tr>\n",
              "    <tr>\n",
              "      <th id=\"T_37007_level0_row5\" class=\"row_heading level0 row5\" >5</th>\n",
              "      <td id=\"T_37007_row5_col0\" class=\"data row5 col0\" >Meet FAR team at EAG</td>\n",
              "      <td id=\"T_37007_row5_col1\" class=\"data row5 col1\" >5</td>\n",
              "      <td id=\"T_37007_row5_col2\" class=\"data row5 col2\" >1.000000</td>\n",
              "      <td id=\"T_37007_row5_col3\" class=\"data row5 col3\" >5.000000</td>\n",
              "    </tr>\n",
              "    <tr>\n",
              "      <th id=\"T_37007_level0_row6\" class=\"row_heading level0 row6\" >6</th>\n",
              "      <td id=\"T_37007_row6_col0\" class=\"data row6 col0\" >Setup Weights and Biases</td>\n",
              "      <td id=\"T_37007_row6_col1\" class=\"data row6 col1\" >5</td>\n",
              "      <td id=\"T_37007_row6_col2\" class=\"data row6 col2\" >0.000000</td>\n",
              "      <td id=\"T_37007_row6_col3\" class=\"data row6 col3\" >0.000000</td>\n",
              "    </tr>\n",
              "    <tr>\n",
              "      <th id=\"T_37007_level0_row7\" class=\"row_heading level0 row7\" >7</th>\n",
              "      <td id=\"T_37007_row7_col0\" class=\"data row7 col0\" >Use OpenAI playground to explore different prompting techniques (e.g. Zero-Shot CoT)</td>\n",
              "      <td id=\"T_37007_row7_col1\" class=\"data row7 col1\" >5</td>\n",
              "      <td id=\"T_37007_row7_col2\" class=\"data row7 col2\" >1.000000</td>\n",
              "      <td id=\"T_37007_row7_col3\" class=\"data row7 col3\" >5.000000</td>\n",
              "    </tr>\n",
              "    <tr>\n",
              "      <th id=\"T_37007_level0_row8\" class=\"row_heading level0 row8\" >8</th>\n",
              "      <td id=\"T_37007_row8_col0\" class=\"data row8 col0\" >Skim \"Language models are zero-shot reasoners\" paper</td>\n",
              "      <td id=\"T_37007_row8_col1\" class=\"data row8 col1\" >5</td>\n",
              "      <td id=\"T_37007_row8_col2\" class=\"data row8 col2\" >1.000000</td>\n",
              "      <td id=\"T_37007_row8_col3\" class=\"data row8 col3\" >5.000000</td>\n",
              "    </tr>\n",
              "    <tr>\n",
              "      <th id=\"T_37007_level0_row9\" class=\"row_heading level0 row9\" >9</th>\n",
              "      <td id=\"T_37007_row9_col0\" class=\"data row9 col0\" >Skim \"Chain of thought reasoning\" paper</td>\n",
              "      <td id=\"T_37007_row9_col1\" class=\"data row9 col1\" >5</td>\n",
              "      <td id=\"T_37007_row9_col2\" class=\"data row9 col2\" >1.000000</td>\n",
              "      <td id=\"T_37007_row9_col3\" class=\"data row9 col3\" >5.000000</td>\n",
              "    </tr>\n",
              "    <tr>\n",
              "      <th id=\"T_37007_level0_row10\" class=\"row_heading level0 row10\" >10</th>\n",
              "      <td id=\"T_37007_row10_col0\" class=\"data row10 col0\" >Skim Minerva paper</td>\n",
              "      <td id=\"T_37007_row10_col1\" class=\"data row10 col1\" >5</td>\n",
              "      <td id=\"T_37007_row10_col2\" class=\"data row10 col2\" >1.000000</td>\n",
              "      <td id=\"T_37007_row10_col3\" class=\"data row10 col3\" >5.000000</td>\n",
              "    </tr>\n",
              "    <tr>\n",
              "      <th id=\"T_37007_level0_row11\" class=\"row_heading level0 row11\" >11</th>\n",
              "      <td id=\"T_37007_row11_col0\" class=\"data row11 col0\" >Total </td>\n",
              "      <td id=\"T_37007_row11_col1\" class=\"data row11 col1\" > </td>\n",
              "      <td id=\"T_37007_row11_col2\" class=\"data row11 col2\" > </td>\n",
              "      <td id=\"T_37007_row11_col3\" class=\"data row11 col3\" >75.000000</td>\n",
              "    </tr>\n",
              "  </tbody>\n",
              "</table>\n"
            ],
            "text/plain": [
              "<pandas.io.formats.style.Styler at 0x20d6efbb190>"
            ]
          },
          "execution_count": 4,
          "metadata": {},
          "output_type": "execute_result"
        }
      ],
      "source": [
        "#hide_input\n",
        "df.style.background_gradient(cmap='Greens', subset=['Total Points'])"
      ]
    },
    {
      "cell_type": "markdown",
      "metadata": {
        "id": "_T3UegHgWhag"
      },
      "source": [
        "# Goals:\n",
        "This week I will focus on catching up with new acquaintances from EAG. \n",
        "\n",
        "Apart from that I want to get set up for the Full Stack Deep Learning Course that starts next week. "
      ]
    },
    {
      "cell_type": "code",
      "execution_count": 6,
      "metadata": {
        "colab": {
          "base_uri": "https://localhost:8080/"
        },
        "id": "kqjULflLVO9z",
        "outputId": "abb9e2e3-17e9-4ace-fed0-b56c274d4603"
      },
      "outputs": [
        {
          "name": "stderr",
          "output_type": "stream",
          "text": [
            "C:\\Users\\Win 10\\AppData\\Local\\Temp\\ipykernel_22512\\410058310.py:12: SettingWithCopyWarning: \n",
            "A value is trying to be set on a copy of a slice from a DataFrame\n",
            "\n",
            "See the caveats in the documentation: https://pandas.pydata.org/pandas-docs/stable/user_guide/indexing.html#returning-a-view-versus-a-copy\n",
            "  df['Points'].iloc[-1] = ' '\n",
            "C:\\Users\\Win 10\\AppData\\Local\\Temp\\ipykernel_22512\\410058310.py:13: SettingWithCopyWarning: \n",
            "A value is trying to be set on a copy of a slice from a DataFrame\n",
            "\n",
            "See the caveats in the documentation: https://pandas.pydata.org/pandas-docs/stable/user_guide/indexing.html#returning-a-view-versus-a-copy\n",
            "  df['Progress'].iloc[-1] = ' '\n",
            "C:\\Users\\Win 10\\AppData\\Local\\Temp\\ipykernel_22512\\410058310.py:14: SettingWithCopyWarning: \n",
            "A value is trying to be set on a copy of a slice from a DataFrame\n",
            "\n",
            "See the caveats in the documentation: https://pandas.pydata.org/pandas-docs/stable/user_guide/indexing.html#returning-a-view-versus-a-copy\n",
            "  df['Total Points'].iloc[-1] = sum(df['Total Points'])\n"
          ]
        }
      ],
      "source": [
        "#hide\n",
        "df_2 = prepare_df('data/weekly_goals/2022-07-31-goals.csv')"
      ]
    },
    {
      "cell_type": "code",
      "execution_count": 7,
      "metadata": {
        "colab": {
          "base_uri": "https://localhost:8080/",
          "height": 467
        },
        "id": "BhL9vmy0Wo-4",
        "outputId": "be03033c-397a-43eb-8dba-d191820cf6fa"
      },
      "outputs": [
        {
          "data": {
            "text/html": [
              "<div>\n",
              "<style scoped>\n",
              "    .dataframe tbody tr th:only-of-type {\n",
              "        vertical-align: middle;\n",
              "    }\n",
              "\n",
              "    .dataframe tbody tr th {\n",
              "        vertical-align: top;\n",
              "    }\n",
              "\n",
              "    .dataframe thead th {\n",
              "        text-align: right;\n",
              "    }\n",
              "</style>\n",
              "<table border=\"1\" class=\"dataframe\">\n",
              "  <thead>\n",
              "    <tr style=\"text-align: right;\">\n",
              "      <th></th>\n",
              "      <th>Goal</th>\n",
              "      <th>Points</th>\n",
              "    </tr>\n",
              "  </thead>\n",
              "  <tbody>\n",
              "    <tr>\n",
              "      <th>0</th>\n",
              "      <td>Full Stack Deep Learning Notebooks</td>\n",
              "      <td>25</td>\n",
              "    </tr>\n",
              "    <tr>\n",
              "      <th>1</th>\n",
              "      <td>Apply to Research Assistant Position</td>\n",
              "      <td>15</td>\n",
              "    </tr>\n",
              "    <tr>\n",
              "      <th>2</th>\n",
              "      <td>Get summary statistics on OpenAI dataset</td>\n",
              "      <td>15</td>\n",
              "    </tr>\n",
              "    <tr>\n",
              "      <th>3</th>\n",
              "      <td>Explore SF</td>\n",
              "      <td>10</td>\n",
              "    </tr>\n",
              "    <tr>\n",
              "      <th>4</th>\n",
              "      <td>Explore Palo Alto</td>\n",
              "      <td>10</td>\n",
              "    </tr>\n",
              "    <tr>\n",
              "      <th>5</th>\n",
              "      <td>Setup Weights and Biases</td>\n",
              "      <td>5</td>\n",
              "    </tr>\n",
              "    <tr>\n",
              "      <th>6</th>\n",
              "      <td>Total</td>\n",
              "      <td></td>\n",
              "    </tr>\n",
              "  </tbody>\n",
              "</table>\n",
              "</div>"
            ],
            "text/plain": [
              "                                        Goal Points\n",
              "0         Full Stack Deep Learning Notebooks     25\n",
              "1       Apply to Research Assistant Position     15\n",
              "2  Get summary statistics on OpenAI dataset      15\n",
              "3                                 Explore SF     10\n",
              "4                          Explore Palo Alto     10\n",
              "5                   Setup Weights and Biases      5\n",
              "6                                     Total        "
            ]
          },
          "execution_count": 7,
          "metadata": {},
          "output_type": "execute_result"
        }
      ],
      "source": [
        "#hide_input\n",
        "df_2[['Goal', 'Points']]"
      ]
    },
    {
      "cell_type": "markdown",
      "metadata": {
        "id": "UuEBoU82WoGR"
      },
      "source": [
        "\n",
        "# Explore in upcoming week(s):\n",
        "\n",
        "- Explore San Francisco and Berkeley"
      ]
    }
  ],
  "metadata": {
    "colab": {
      "collapsed_sections": [],
      "name": "02.07 weekly goals.ipynb",
      "provenance": []
    },
    "kernelspec": {
      "display_name": "Python 3.8.0 ('bmrl')",
      "language": "python",
      "name": "python3"
    },
    "language_info": {
      "codemirror_mode": {
        "name": "ipython",
        "version": 3
      },
      "file_extension": ".py",
      "mimetype": "text/x-python",
      "name": "python",
      "nbconvert_exporter": "python",
      "pygments_lexer": "ipython3",
      "version": "3.8.0"
    },
    "vscode": {
      "interpreter": {
        "hash": "9bd5fdb6f48531610e7098ba85fa665d7e3829b76a65bf338b4d2c82efce60af"
      }
    }
  },
  "nbformat": 4,
  "nbformat_minor": 0
}
