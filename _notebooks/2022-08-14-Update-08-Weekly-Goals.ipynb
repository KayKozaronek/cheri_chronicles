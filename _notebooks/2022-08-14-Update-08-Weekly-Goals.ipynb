{
  "cells": [
    {
      "cell_type": "markdown",
      "metadata": {
        "id": "zwq93RalVprI"
      },
      "source": [
        "# Weekly Goals Update 08\n",
        "> \"This template helps me prioritize, keep track of and review my weekly goals. It will also be quite amusing looking back at what I struggled with in a year.\"\n",
        "\n",
        "- toc: true\n",
        "- badges: true\n",
        "- comments: true\n",
        "- categories: [Reading, Books, Academic Papers, Blogs, Mental Diet]\n",
        "- image: images/to-do-list.png"
      ]
    },
    {
      "cell_type": "markdown",
      "metadata": {
        "id": "rnoi1BrlVlYo"
      },
      "source": [
        "# Status: \n",
        "\n",
        "In the beginning of the week I suffered from severe jet lag. Next time, I'll account for the time lost to potentially overcoming it. Lesson learned.\n",
        "\n",
        "Towards the end of the week I made good progress on my project and was able to finetune GPT-3 on a larger scale then previously. Tentative results seem promising. "
      ]
    },
    {
      "cell_type": "code",
      "execution_count": 3,
      "metadata": {
        "colab": {
          "base_uri": "https://localhost:8080/"
        },
        "id": "icVcs8PnWiog",
        "outputId": "e4218949-f126-492d-b071-a4402b1dc010"
      },
      "outputs": [
        {
          "name": "stderr",
          "output_type": "stream",
          "text": [
            "C:\\Users\\Win 10\\AppData\\Local\\Temp\\ipykernel_1352\\3273588480.py:12: SettingWithCopyWarning: \n",
            "A value is trying to be set on a copy of a slice from a DataFrame\n",
            "\n",
            "See the caveats in the documentation: https://pandas.pydata.org/pandas-docs/stable/user_guide/indexing.html#returning-a-view-versus-a-copy\n",
            "  df['Points'].iloc[-1] = ' '\n",
            "C:\\Users\\Win 10\\AppData\\Local\\Temp\\ipykernel_1352\\3273588480.py:13: SettingWithCopyWarning: \n",
            "A value is trying to be set on a copy of a slice from a DataFrame\n",
            "\n",
            "See the caveats in the documentation: https://pandas.pydata.org/pandas-docs/stable/user_guide/indexing.html#returning-a-view-versus-a-copy\n",
            "  df['Progress'].iloc[-1] = ' '\n",
            "C:\\Users\\Win 10\\AppData\\Local\\Temp\\ipykernel_1352\\3273588480.py:14: SettingWithCopyWarning: \n",
            "A value is trying to be set on a copy of a slice from a DataFrame\n",
            "\n",
            "See the caveats in the documentation: https://pandas.pydata.org/pandas-docs/stable/user_guide/indexing.html#returning-a-view-versus-a-copy\n",
            "  df['Total Points'].iloc[-1] = sum(df['Total Points'])\n"
          ]
        }
      ],
      "source": [
        "#hide\n",
        "import pandas as pd \n",
        "\n",
        "def prepare_df(file_path):\n",
        "  \n",
        "  cols_to_include = ['Goal', 'Points', 'Progress']\n",
        "  df = pd.read_csv(file_path, usecols=cols_to_include, sep=';')\n",
        "  df['Total Points'] = df['Points'] * df['Progress'] / 100 \n",
        "  df.fillna(0,inplace=True)\n",
        "  df['Points'] = df['Points'].astype(int)\n",
        "  df['Progress'] = df['Progress'].astype(float) / 100\n",
        "  df['Points'].iloc[-1] = ' '\n",
        "  df['Progress'].iloc[-1] = ' '\n",
        "  df['Total Points'].iloc[-1] = sum(df['Total Points'])\n",
        "\n",
        "  return df\n",
        "\n",
        "df = prepare_df('data/weekly_goals/2022-08-14-goals.csv')"
      ]
    },
    {
      "cell_type": "code",
      "execution_count": 4,
      "metadata": {
        "colab": {
          "base_uri": "https://localhost:8080/",
          "height": 352
        },
        "id": "QeYn7fDkZ1Ny",
        "outputId": "1b5e9a16-e4da-45fa-b6bd-7cfd9971324d"
      },
      "outputs": [
        {
          "data": {
            "text/html": [
              "<style type=\"text/css\">\n",
              "#T_4b358_row0_col3 {\n",
              "  background-color: #c0e6b9;\n",
              "  color: #000000;\n",
              "}\n",
              "#T_4b358_row1_col3, #T_4b358_row5_col3 {\n",
              "  background-color: #edf8ea;\n",
              "  color: #000000;\n",
              "}\n",
              "#T_4b358_row2_col3 {\n",
              "  background-color: #f2faf0;\n",
              "  color: #000000;\n",
              "}\n",
              "#T_4b358_row3_col3 {\n",
              "  background-color: #e2f4dd;\n",
              "  color: #000000;\n",
              "}\n",
              "#T_4b358_row4_col3, #T_4b358_row6_col3 {\n",
              "  background-color: #f7fcf5;\n",
              "  color: #000000;\n",
              "}\n",
              "#T_4b358_row7_col3 {\n",
              "  background-color: #00441b;\n",
              "  color: #f1f1f1;\n",
              "}\n",
              "</style>\n",
              "<table id=\"T_4b358\">\n",
              "  <thead>\n",
              "    <tr>\n",
              "      <th class=\"blank level0\" >&nbsp;</th>\n",
              "      <th id=\"T_4b358_level0_col0\" class=\"col_heading level0 col0\" >Goal</th>\n",
              "      <th id=\"T_4b358_level0_col1\" class=\"col_heading level0 col1\" >Points</th>\n",
              "      <th id=\"T_4b358_level0_col2\" class=\"col_heading level0 col2\" >Progress</th>\n",
              "      <th id=\"T_4b358_level0_col3\" class=\"col_heading level0 col3\" >Total Points</th>\n",
              "    </tr>\n",
              "  </thead>\n",
              "  <tbody>\n",
              "    <tr>\n",
              "      <th id=\"T_4b358_level0_row0\" class=\"row_heading level0 row0\" >0</th>\n",
              "      <td id=\"T_4b358_row0_col0\" class=\"data row0 col0\" >Finetune 3 different models </td>\n",
              "      <td id=\"T_4b358_row0_col1\" class=\"data row0 col1\" >25</td>\n",
              "      <td id=\"T_4b358_row0_col2\" class=\"data row0 col2\" >1.000000</td>\n",
              "      <td id=\"T_4b358_row0_col3\" class=\"data row0 col3\" >25.000000</td>\n",
              "    </tr>\n",
              "    <tr>\n",
              "      <th id=\"T_4b358_level0_row1\" class=\"row_heading level0 row1\" >1</th>\n",
              "      <td id=\"T_4b358_row1_col0\" class=\"data row1 col0\" >Compare experimental setups (OpenAI vs Ours)</td>\n",
              "      <td id=\"T_4b358_row1_col1\" class=\"data row1 col1\" >20</td>\n",
              "      <td id=\"T_4b358_row1_col2\" class=\"data row1 col2\" >0.500000</td>\n",
              "      <td id=\"T_4b358_row1_col3\" class=\"data row1 col3\" >10.000000</td>\n",
              "    </tr>\n",
              "    <tr>\n",
              "      <th id=\"T_4b358_level0_row2\" class=\"row_heading level0 row2\" >2</th>\n",
              "      <td id=\"T_4b358_row2_col0\" class=\"data row2 col0\" >Draft Final Post</td>\n",
              "      <td id=\"T_4b358_row2_col1\" class=\"data row2 col1\" >15</td>\n",
              "      <td id=\"T_4b358_row2_col2\" class=\"data row2 col2\" >0.500000</td>\n",
              "      <td id=\"T_4b358_row2_col3\" class=\"data row2 col3\" >7.500000</td>\n",
              "    </tr>\n",
              "    <tr>\n",
              "      <th id=\"T_4b358_level0_row3\" class=\"row_heading level0 row3\" >3</th>\n",
              "      <td id=\"T_4b358_row3_col0\" class=\"data row3 col0\" >Draft Final Deliverable Presentation</td>\n",
              "      <td id=\"T_4b358_row3_col1\" class=\"data row3 col1\" >15</td>\n",
              "      <td id=\"T_4b358_row3_col2\" class=\"data row3 col2\" >1.000000</td>\n",
              "      <td id=\"T_4b358_row3_col3\" class=\"data row3 col3\" >15.000000</td>\n",
              "    </tr>\n",
              "    <tr>\n",
              "      <th id=\"T_4b358_level0_row4\" class=\"row_heading level0 row4\" >4</th>\n",
              "      <td id=\"T_4b358_row4_col0\" class=\"data row4 col0\" >FSDL: Lab 4</td>\n",
              "      <td id=\"T_4b358_row4_col1\" class=\"data row4 col1\" >10</td>\n",
              "      <td id=\"T_4b358_row4_col2\" class=\"data row4 col2\" >0.500000</td>\n",
              "      <td id=\"T_4b358_row4_col3\" class=\"data row4 col3\" >5.000000</td>\n",
              "    </tr>\n",
              "    <tr>\n",
              "      <th id=\"T_4b358_level0_row5\" class=\"row_heading level0 row5\" >5</th>\n",
              "      <td id=\"T_4b358_row5_col0\" class=\"data row5 col0\" >Finish Final deliverable notebook</td>\n",
              "      <td id=\"T_4b358_row5_col1\" class=\"data row5 col1\" >10</td>\n",
              "      <td id=\"T_4b358_row5_col2\" class=\"data row5 col2\" >1.000000</td>\n",
              "      <td id=\"T_4b358_row5_col3\" class=\"data row5 col3\" >10.000000</td>\n",
              "    </tr>\n",
              "    <tr>\n",
              "      <th id=\"T_4b358_level0_row6\" class=\"row_heading level0 row6\" >6</th>\n",
              "      <td id=\"T_4b358_row6_col0\" class=\"data row6 col0\" >FSDL: Lecture 2</td>\n",
              "      <td id=\"T_4b358_row6_col1\" class=\"data row6 col1\" >5</td>\n",
              "      <td id=\"T_4b358_row6_col2\" class=\"data row6 col2\" >1.000000</td>\n",
              "      <td id=\"T_4b358_row6_col3\" class=\"data row6 col3\" >5.000000</td>\n",
              "    </tr>\n",
              "    <tr>\n",
              "      <th id=\"T_4b358_level0_row7\" class=\"row_heading level0 row7\" >7</th>\n",
              "      <td id=\"T_4b358_row7_col0\" class=\"data row7 col0\" >Total </td>\n",
              "      <td id=\"T_4b358_row7_col1\" class=\"data row7 col1\" > </td>\n",
              "      <td id=\"T_4b358_row7_col2\" class=\"data row7 col2\" > </td>\n",
              "      <td id=\"T_4b358_row7_col3\" class=\"data row7 col3\" >77.500000</td>\n",
              "    </tr>\n",
              "  </tbody>\n",
              "</table>\n"
            ],
            "text/plain": [
              "<pandas.io.formats.style.Styler at 0x20588658940>"
            ]
          },
          "execution_count": 4,
          "metadata": {},
          "output_type": "execute_result"
        }
      ],
      "source": [
        "#hide_input\n",
        "df.style.background_gradient(cmap='Greens', subset=['Total Points'])"
      ]
    },
    {
      "cell_type": "markdown",
      "metadata": {
        "id": "_T3UegHgWhag"
      },
      "source": [
        "# Goals:\n",
        "\n",
        "This week will be all about wrapping up the research project. \n",
        "\n",
        "In the end I want to be able to make sense of:\n",
        "- technical learnings\n",
        "- meta learnings \n",
        "- next steps after CHERI"
      ]
    },
    {
      "cell_type": "code",
      "execution_count": 5,
      "metadata": {
        "colab": {
          "base_uri": "https://localhost:8080/"
        },
        "id": "kqjULflLVO9z",
        "outputId": "abb9e2e3-17e9-4ace-fed0-b56c274d4603"
      },
      "outputs": [
        {
          "name": "stderr",
          "output_type": "stream",
          "text": [
            "C:\\Users\\Win 10\\AppData\\Local\\Temp\\ipykernel_1352\\3273588480.py:12: SettingWithCopyWarning: \n",
            "A value is trying to be set on a copy of a slice from a DataFrame\n",
            "\n",
            "See the caveats in the documentation: https://pandas.pydata.org/pandas-docs/stable/user_guide/indexing.html#returning-a-view-versus-a-copy\n",
            "  df['Points'].iloc[-1] = ' '\n",
            "C:\\Users\\Win 10\\AppData\\Local\\Temp\\ipykernel_1352\\3273588480.py:13: SettingWithCopyWarning: \n",
            "A value is trying to be set on a copy of a slice from a DataFrame\n",
            "\n",
            "See the caveats in the documentation: https://pandas.pydata.org/pandas-docs/stable/user_guide/indexing.html#returning-a-view-versus-a-copy\n",
            "  df['Progress'].iloc[-1] = ' '\n",
            "C:\\Users\\Win 10\\AppData\\Local\\Temp\\ipykernel_1352\\3273588480.py:14: SettingWithCopyWarning: \n",
            "A value is trying to be set on a copy of a slice from a DataFrame\n",
            "\n",
            "See the caveats in the documentation: https://pandas.pydata.org/pandas-docs/stable/user_guide/indexing.html#returning-a-view-versus-a-copy\n",
            "  df['Total Points'].iloc[-1] = sum(df['Total Points'])\n"
          ]
        }
      ],
      "source": [
        "#hide\n",
        "df_2 = prepare_df('data/weekly_goals/2022-08-21-goals.csv')"
      ]
    },
    {
      "cell_type": "code",
      "execution_count": 6,
      "metadata": {
        "colab": {
          "base_uri": "https://localhost:8080/",
          "height": 467
        },
        "id": "BhL9vmy0Wo-4",
        "outputId": "be03033c-397a-43eb-8dba-d191820cf6fa"
      },
      "outputs": [
        {
          "data": {
            "text/html": [
              "<div>\n",
              "<style scoped>\n",
              "    .dataframe tbody tr th:only-of-type {\n",
              "        vertical-align: middle;\n",
              "    }\n",
              "\n",
              "    .dataframe tbody tr th {\n",
              "        vertical-align: top;\n",
              "    }\n",
              "\n",
              "    .dataframe thead th {\n",
              "        text-align: right;\n",
              "    }\n",
              "</style>\n",
              "<table border=\"1\" class=\"dataframe\">\n",
              "  <thead>\n",
              "    <tr style=\"text-align: right;\">\n",
              "      <th></th>\n",
              "      <th>Goal</th>\n",
              "      <th>Points</th>\n",
              "    </tr>\n",
              "  </thead>\n",
              "  <tbody>\n",
              "    <tr>\n",
              "      <th>0</th>\n",
              "      <td>Compare 4 model outputs</td>\n",
              "      <td>20</td>\n",
              "    </tr>\n",
              "    <tr>\n",
              "      <th>1</th>\n",
              "      <td>Writ up experimental setup (compare OpenAI vs ...</td>\n",
              "      <td>20</td>\n",
              "    </tr>\n",
              "    <tr>\n",
              "      <th>2</th>\n",
              "      <td>Write up experimental results</td>\n",
              "      <td>20</td>\n",
              "    </tr>\n",
              "    <tr>\n",
              "      <th>3</th>\n",
              "      <td>Final Presentation PowerPoint</td>\n",
              "      <td>15</td>\n",
              "    </tr>\n",
              "    <tr>\n",
              "      <th>4</th>\n",
              "      <td>FSDL: Lab 5</td>\n",
              "      <td>10</td>\n",
              "    </tr>\n",
              "    <tr>\n",
              "      <th>5</th>\n",
              "      <td>Draft CHERI Resume Post</td>\n",
              "      <td>10</td>\n",
              "    </tr>\n",
              "    <tr>\n",
              "      <th>6</th>\n",
              "      <td>FSDL: Lecture 3</td>\n",
              "      <td>5</td>\n",
              "    </tr>\n",
              "    <tr>\n",
              "      <th>7</th>\n",
              "      <td>Total</td>\n",
              "      <td></td>\n",
              "    </tr>\n",
              "  </tbody>\n",
              "</table>\n",
              "</div>"
            ],
            "text/plain": [
              "                                                Goal Points\n",
              "0                            Compare 4 model outputs     20\n",
              "1  Writ up experimental setup (compare OpenAI vs ...     20\n",
              "2                     Write up experimental results      20\n",
              "3                      Final Presentation PowerPoint     15\n",
              "4                                        FSDL: Lab 5     10\n",
              "5                            Draft CHERI Resume Post     10\n",
              "6                                    FSDL: Lecture 3      5\n",
              "7                                             Total        "
            ]
          },
          "execution_count": 6,
          "metadata": {},
          "output_type": "execute_result"
        }
      ],
      "source": [
        "#hide_input\n",
        "df_2[['Goal', 'Points']]"
      ]
    },
    {
      "cell_type": "markdown",
      "metadata": {
        "id": "UuEBoU82WoGR"
      },
      "source": [
        "\n",
        "# Explore in upcoming week(s):\n",
        "\n",
        "- Finish up the fellowship"
      ]
    }
  ],
  "metadata": {
    "colab": {
      "collapsed_sections": [],
      "name": "02.07 weekly goals.ipynb",
      "provenance": []
    },
    "kernelspec": {
      "display_name": "Python 3.8.0 ('bmrl')",
      "language": "python",
      "name": "python3"
    },
    "language_info": {
      "codemirror_mode": {
        "name": "ipython",
        "version": 3
      },
      "file_extension": ".py",
      "mimetype": "text/x-python",
      "name": "python",
      "nbconvert_exporter": "python",
      "pygments_lexer": "ipython3",
      "version": "3.8.0"
    },
    "vscode": {
      "interpreter": {
        "hash": "9bd5fdb6f48531610e7098ba85fa665d7e3829b76a65bf338b4d2c82efce60af"
      }
    }
  },
  "nbformat": 4,
  "nbformat_minor": 0
}
